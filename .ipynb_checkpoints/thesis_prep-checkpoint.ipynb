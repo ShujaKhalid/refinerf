{
 "cells": [
  {
   "cell_type": "code",
   "execution_count": 57,
   "id": "7302a218",
   "metadata": {},
   "outputs": [],
   "source": [
    "import cv2\n",
    "import numpy as np\n",
    "from glob import glob\n",
    "import matplotlib.pyplot as plt"
   ]
  },
  {
   "cell_type": "code",
   "execution_count": 60,
   "id": "82a95e61",
   "metadata": {},
   "outputs": [],
   "source": [
    "# FORMAT=\"original/reconstructed/instruments masked/depth\"\n",
    "#LOC_ORIG=\"/home/skhalid/Documents/torch-ngp/results/Ours/Playground/\" # DONEZO\n",
    "#LOC_ORIG=\"/home/skhalid/Documents/torch-ngp/results/Ours/Umbrella/\" # DONEZO\n",
    "#LOC_ORIG=\"/home/skhalid/Documents/torch-ngp/results/Ours/Umbrella_slowmo/\" # DONEZO\n",
    "LOC_ORIG=\"/home/skhalid/Documents/torch-ngp/results/Ours/Playground_slowmo/\" # DONEZO\n",
    "LOC_RECO=LOC_ORIG+\"recon\" # DONEZO\n",
    "LOC_MASK=LOC_ORIG+\"mask\" # DONEZO\n",
    "LOC_DPTH=LOC_ORIG+\"disp_img\" # DONEZO"
   ]
  },
  {
   "cell_type": "code",
   "execution_count": 61,
   "id": "a9bfb50f",
   "metadata": {},
   "outputs": [
    {
     "name": "stdout",
     "output_type": "stream",
     "text": [
      "imgs_reco: (0,)\n",
      "imgs_mask: (0,)\n",
      "imgs_dpth: (0,)\n"
     ]
    }
   ],
   "source": [
    "# get the arrays\n",
    "fns_reco = glob(LOC_RECO+\"/*\")\n",
    "fns_reco.sort()\n",
    "fns_mask = glob(LOC_MASK+\"/*\")\n",
    "fns_mask.sort()\n",
    "fns_dpth = glob(LOC_DPTH+\"/*\")\n",
    "fns_dpth.sort()\n",
    "imgs_reco = np.array([cv2.imread(v) for v in fns_reco])\n",
    "imgs_mask = np.array([cv2.resize(cv2.imread(v), (480,270)) for v in fns_mask])\n",
    "imgs_dpth = np.array([cv2.imread(v) for v in fns_dpth])\n",
    "\n",
    "# Make mask pixels white\n",
    "#imgs_mask[imgs_mask.any()==128.0] = 255.0\n",
    "\n",
    "print(\"imgs_reco: {}\".format(imgs_reco.shape))\n",
    "print(\"imgs_mask: {}\".format(imgs_mask.shape))\n",
    "print(\"imgs_dpth: {}\".format(imgs_dpth.shape))\n",
    "\n",
    "assert len(imgs_reco) == len(imgs_mask) == len(imgs_dpth)"
   ]
  },
  {
   "cell_type": "code",
   "execution_count": 55,
   "id": "fa191386",
   "metadata": {},
   "outputs": [],
   "source": [
    "'''\n",
    "Run depth masks here\n",
    "'''\n",
    "WEIGHTS_MIDAS=\"/home/skhalid/Documents/datalake/neural_motion_weights/midas_v21-f6b98070.pt\"\n",
    "\n",
    "#!python utils/generate_depth.py --dataset_path $LOC_ORIG --model $WEIGHTS_MIDAS --input_folder images_colmap --output_folder disp --output_img_folder disp_img "
   ]
  },
  {
   "cell_type": "code",
   "execution_count": 56,
   "id": "6bde12a7",
   "metadata": {
    "scrolled": false
   },
   "outputs": [
    {
     "name": "stdout",
     "output_type": "stream",
     "text": [
      "fn: Playground_slowmo.mp4\n"
     ]
    },
    {
     "name": "stderr",
     "output_type": "stream",
     "text": [
      "OpenCV: FFMPEG: tag 0x5634504d/'MP4V' is not supported with codec id 12 and format 'mp4 / MP4 (MPEG-4 Part 14)'\n",
      "OpenCV: FFMPEG: fallback to use tag 0x7634706d/'mp4v'\n"
     ]
    }
   ],
   "source": [
    "'''\n",
    "Create individual videos here\n",
    "'''\n",
    "case = LOC_ORIG.split('/')[-2]\n",
    "fn = case+'.mp4'\n",
    "out = cv2.VideoWriter(fn, cv2.VideoWriter_fourcc(*\"MP4V\"), 15.0, (480*3,270))\n",
    "\n",
    "print(\"fn: {}\".format(fn))\n",
    "\n",
    "# concatenate the arrays\n",
    "for img_reco, img_mask, img_dpth in zip(imgs_reco, imgs_mask, imgs_dpth):\n",
    "    img = np.concatenate((img_reco, img_mask, img_dpth), axis=1)\n",
    "    #plt.figure()\n",
    "    #plt.imshow(img)\n",
    "    #plt.axis('off')\n",
    "    \n",
    "    # write to a video source\n",
    "    out.write(img)\n",
    "    \n",
    "out.release()"
   ]
  },
  {
   "cell_type": "code",
   "execution_count": 28,
   "id": "98e31bf6",
   "metadata": {},
   "outputs": [
    {
     "data": {
      "text/plain": [
       "'\\nCombine using cv2 here\\n'"
      ]
     },
     "execution_count": 28,
     "metadata": {},
     "output_type": "execute_result"
    }
   ],
   "source": [
    "'''\n",
    "Combine using cv2 here\n",
    "'''\n"
   ]
  },
  {
   "cell_type": "code",
   "execution_count": 29,
   "id": "fcef1a9c",
   "metadata": {},
   "outputs": [
    {
     "data": {
      "text/plain": [
       "'\\nAdd text using cv2 here\\n'"
      ]
     },
     "execution_count": 29,
     "metadata": {},
     "output_type": "execute_result"
    }
   ],
   "source": [
    "'''\n",
    "Add text using cv2 here\n",
    "'''\n"
   ]
  },
  {
   "cell_type": "code",
   "execution_count": 30,
   "id": "d3586b96",
   "metadata": {},
   "outputs": [
    {
     "data": {
      "text/plain": [
       "'\\nConvert to gifs here\\n'"
      ]
     },
     "execution_count": 30,
     "metadata": {},
     "output_type": "execute_result"
    }
   ],
   "source": [
    "'''\n",
    "Convert to gifs here\n",
    "'''\n"
   ]
  },
  {
   "cell_type": "code",
   "execution_count": null,
   "id": "ed810631",
   "metadata": {},
   "outputs": [],
   "source": []
  }
 ],
 "metadata": {
  "kernelspec": {
   "display_name": "Python 3 (ipykernel)",
   "language": "python",
   "name": "python3"
  },
  "language_info": {
   "codemirror_mode": {
    "name": "ipython",
    "version": 3
   },
   "file_extension": ".py",
   "mimetype": "text/x-python",
   "name": "python",
   "nbconvert_exporter": "python",
   "pygments_lexer": "ipython3",
   "version": "3.10.12"
  }
 },
 "nbformat": 4,
 "nbformat_minor": 5
}
