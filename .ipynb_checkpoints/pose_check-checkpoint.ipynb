{
 "cells": [
  {
   "cell_type": "code",
   "execution_count": 3,
   "id": "3fe8e027",
   "metadata": {},
   "outputs": [
    {
     "name": "stdout",
     "output_type": "stream",
     "text": [
      "Requirement already satisfied: trimesh in /home/skhalid/anaconda3/envs/venv-ngp/lib/python3.7/site-packages (3.18.1)\r\n",
      "Requirement already satisfied: numpy in /home/skhalid/anaconda3/envs/venv-ngp/lib/python3.7/site-packages (from trimesh) (1.19.0)\r\n"
     ]
    },
    {
     "ename": "ModuleNotFoundError",
     "evalue": "No module named 'trimesh'",
     "output_type": "error",
     "traceback": [
      "\u001b[0;31m---------------------------------------------------------------------------\u001b[0m",
      "\u001b[0;31mModuleNotFoundError\u001b[0m                       Traceback (most recent call last)",
      "Cell \u001b[0;32mIn [3], line 2\u001b[0m\n\u001b[1;32m      1\u001b[0m get_ipython()\u001b[38;5;241m.\u001b[39msystem(\u001b[38;5;124m'\u001b[39m\u001b[38;5;124mpip install trimesh\u001b[39m\u001b[38;5;124m'\u001b[39m)\n\u001b[0;32m----> 2\u001b[0m \u001b[38;5;28;01mimport\u001b[39;00m \u001b[38;5;21;01mtrimesh\u001b[39;00m\n\u001b[1;32m      3\u001b[0m get_ipython()\u001b[38;5;241m.\u001b[39msystem(\u001b[38;5;124m'\u001b[39m\u001b[38;5;124mpip install pyglet==1.5.27\u001b[39m\u001b[38;5;124m'\u001b[39m)\n",
      "\u001b[0;31mModuleNotFoundError\u001b[0m: No module named 'trimesh'"
     ]
    }
   ],
   "source": [
    "!pip install trimesh\n",
    "!pip install pyglet==1.5.27"
   ]
  },
  {
   "cell_type": "code",
   "execution_count": 2,
   "id": "f0e0ae1d",
   "metadata": {},
   "outputs": [
    {
     "ename": "ModuleNotFoundError",
     "evalue": "No module named 'trimesh'",
     "output_type": "error",
     "traceback": [
      "\u001b[0;31m---------------------------------------------------------------------------\u001b[0m",
      "\u001b[0;31mModuleNotFoundError\u001b[0m                       Traceback (most recent call last)",
      "Cell \u001b[0;32mIn [2], line 3\u001b[0m\n\u001b[1;32m      1\u001b[0m \u001b[38;5;28;01mimport\u001b[39;00m \u001b[38;5;21;01mio\u001b[39;00m\n\u001b[1;32m      2\u001b[0m \u001b[38;5;28;01mimport\u001b[39;00m \u001b[38;5;21;01mglob\u001b[39;00m\n\u001b[0;32m----> 3\u001b[0m \u001b[38;5;28;01mimport\u001b[39;00m \u001b[38;5;21;01mtrimesh\u001b[39;00m\n\u001b[1;32m      4\u001b[0m \u001b[38;5;28;01mimport\u001b[39;00m \u001b[38;5;21;01mnumpy\u001b[39;00m \u001b[38;5;28;01mas\u001b[39;00m \u001b[38;5;21;01mnp\u001b[39;00m\n\u001b[1;32m      5\u001b[0m \u001b[38;5;28;01mfrom\u001b[39;00m \u001b[38;5;21;01mPIL\u001b[39;00m \u001b[38;5;28;01mimport\u001b[39;00m Image\n",
      "\u001b[0;31mModuleNotFoundError\u001b[0m: No module named 'trimesh'"
     ]
    }
   ],
   "source": [
    "import io\n",
    "import glob\n",
    "import trimesh\n",
    "import numpy as np\n",
    "from PIL import Image\n",
    "import matplotlib.pyplot as plt"
   ]
  },
  {
   "cell_type": "code",
   "execution_count": null,
   "id": "5014652a",
   "metadata": {},
   "outputs": [],
   "source": [
    "def visualize_poses(poses, index, size=0.015):\n",
    "    # poses: [B, 4, 4]\n",
    "\n",
    "    axes = trimesh.creation.axis(axis_length=1)\n",
    "    box = trimesh.primitives.Box(extents=(2, 2, 2)).as_outline()\n",
    "    box.colors = np.array([[128, 128, 128]] * len(box.entities))\n",
    "    #objects = [axes, box]\n",
    "    objects = [axes]\n",
    "\n",
    "    for pose in poses:\n",
    "        # a camera is visualized with 8 line segments.\n",
    "        pos = pose[:3, 3]\n",
    "        a = pos + size * pose[:3, 0] + size * pose[:3, 1] + size * pose[:3, 2]\n",
    "        b = pos - size * pose[:3, 0] + size * pose[:3, 1] + size * pose[:3, 2]\n",
    "        c = pos - size * pose[:3, 0] - size * pose[:3, 1] + size * pose[:3, 2]\n",
    "        d = pos + size * pose[:3, 0] - size * pose[:3, 1] + size * pose[:3, 2]\n",
    "\n",
    "        dir = (a + b + c + d) / 4 - pos\n",
    "        dir = dir / (np.linalg.norm(dir) + 1e-8)\n",
    "        o = pos + dir * 3\n",
    "\n",
    "        segs = np.array([[pos, a], [pos, b], [pos, c], [pos, d], [\n",
    "                        a, b], [b, c], [c, d], [d, a], [pos, o]])\n",
    "        # segs = np.array([[pos, a], [pos, b], [pos, c], [pos, d], [\n",
    "        #                 a, b], [b, c], [c, d], [d, a], [pos, o]])\n",
    "        segs = trimesh.load_path(segs)\n",
    "        objects.append(segs)\n",
    "\n",
    "    # FIXME - add config path\n",
    "    PATH = \"/home/skhalid/Documents/torch-ngp/results/Ours/refinerf/\" + \\\n",
    "        str(index) + \".png\"\n",
    "    scene = trimesh.Scene(objects)\n",
    "    scene.set_camera(angles=[0.0, 0.0, 0.0], distance=2.5, center=[0, 0, 0])\n",
    "    # scene.set_camera(distance=2.5, center=[0, 0, 0])\n",
    "    scene.show()\n",
    "\n",
    "    data = scene.save_image(resolution=(1080, 1080), visible=True)\n",
    "    image = Image.open(io.BytesIO(data))\n",
    "    w, h = image.size\n",
    "    image.save(PATH, \"png\")"
   ]
  },
  {
   "cell_type": "code",
   "execution_count": null,
   "id": "830a685d",
   "metadata": {},
   "outputs": [],
   "source": [
    "# initialization\n",
    "LOC = \"/home/skhalid/Documents/torch-ngp/refinerf/refinerf_pose_evaluation/\"\n",
    "folders = glob.glob(LOC+\"/*\")"
   ]
  },
  {
   "cell_type": "code",
   "execution_count": null,
   "id": "e6ad983c",
   "metadata": {},
   "outputs": [],
   "source": [
    "poses = {}\n",
    "\n",
    "for folder in folders:\n",
    "    files = glob.glob(folder+\"/*\")\n",
    "    poses_init = np.array([np.load(v) for v in files if \"poses_init\" in v])\n",
    "    poses_all = np.array([np.load(v) for v in files if \"poses_step\" in v])\n",
    "\n",
    "#     print(np.array(poses_all[-1]).shape)\n",
    "    \n",
    "    poses[folder] = {\n",
    "        \"poses_init\": [],\n",
    "        \"poses_all\": []\n",
    "    }\n",
    "    poses[folder][\"poses_init\"] = poses_init\n",
    "    poses[folder][\"poses_all\"] = poses_all\n",
    "    \n",
    "    print(poses_all.shape)"
   ]
  },
  {
   "cell_type": "code",
   "execution_count": null,
   "id": "b89ebb98",
   "metadata": {},
   "outputs": [],
   "source": [
    "for k, folder in enumerate(poses.keys()):\n",
    "    fn = folder.split(\"/\")[-1] \n",
    "    \n",
    "    # init\n",
    "    poses_init = np.array([np.load(v) for v in files if \"poses_init\" in v])\n",
    "    visualize_poses(poses_init[0], k)\n",
    "    \n",
    "#     # all\n",
    "#     for m, folder in enumerate(poses.keys()):\n",
    "#         index = fn + \"_\" + str(m)\n",
    "#         p = np.array(poses[folder][\"poses_all\"][m])\n",
    "#         visualize_poses(p, index)\n",
    "#         #input(\"Press Enter to continue...\")"
   ]
  }
 ],
 "metadata": {
  "kernelspec": {
   "display_name": "Python 3 (ipykernel)",
   "language": "python",
   "name": "python3"
  },
  "language_info": {
   "codemirror_mode": {
    "name": "ipython",
    "version": 3
   },
   "file_extension": ".py",
   "mimetype": "text/x-python",
   "name": "python",
   "nbconvert_exporter": "python",
   "pygments_lexer": "ipython3",
   "version": "3.10.6"
  }
 },
 "nbformat": 4,
 "nbformat_minor": 5
}
